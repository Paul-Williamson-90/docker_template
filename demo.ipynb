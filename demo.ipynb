{
 "cells": [
  {
   "cell_type": "code",
   "execution_count": 11,
   "metadata": {},
   "outputs": [
    {
     "name": "stdout",
     "output_type": "stream",
     "text": [
      "{\"Hello\":\"World\"}\n",
      "{\"item_id\":1234,\"q\":\"3\"}\n"
     ]
    }
   ],
   "source": [
    "import requests\n",
    "\n",
    "# testing the ping\n",
    "response = requests.get(\"http://localhost:8000/\")\n",
    "if response.status_code == 200:\n",
    "    print(response.text)\n",
    "\n",
    "# testing the get item\n",
    "data = {\n",
    "    \"q\": 3\n",
    "}\n",
    "response = requests.get(\"http://localhost:8000/items/1234\", params=data)\n",
    "if response.status_code == 200:\n",
    "    print(response.text)"
   ]
  }
 ],
 "metadata": {
  "kernelspec": {
   "display_name": ".venv",
   "language": "python",
   "name": "python3"
  },
  "language_info": {
   "codemirror_mode": {
    "name": "ipython",
    "version": 3
   },
   "file_extension": ".py",
   "mimetype": "text/x-python",
   "name": "python",
   "nbconvert_exporter": "python",
   "pygments_lexer": "ipython3",
   "version": "3.12.2"
  }
 },
 "nbformat": 4,
 "nbformat_minor": 2
}
